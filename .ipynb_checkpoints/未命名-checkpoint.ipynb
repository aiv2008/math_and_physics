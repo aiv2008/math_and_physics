{
 "cells": [
  {
   "cell_type": "markdown",
   "metadata": {},
   "source": [
    "49.\t假设T∈L(V,W)，由向量Tv∈W组成的子集称为T的值域，即"
   ]
  },
  {
   "cell_type": "code",
   "execution_count": 9,
   "metadata": {},
   "outputs": [],
   "source": [
    ":(rangeT={Tv:v∈V});"
   ]
  },
  {
   "cell_type": "markdown",
   "metadata": {},
   "source": [
    "50.\t若T∈L(V,W),则rangeT是W的子空间\n",
    "    证：由定义可知rangeT是W的子集\n",
    "    (1) 先证明加法单位元"
   ]
  },
  {
   "cell_type": "code",
   "execution_count": 10,
   "metadata": {},
   "outputs": [],
   "source": [
    ":(0∈rangeT);"
   ]
  },
  {
   "cell_type": "markdown",
   "metadata": {},
   "source": [
    "因为nullT是V的子空间，所以所有"
   ]
  },
  {
   "cell_type": "code",
   "execution_count": 12,
   "metadata": {},
   "outputs": [],
   "source": [
    ":(v∈nullT);"
   ]
  },
  {
   "cell_type": "markdown",
   "metadata": {},
   "source": [
    "的向量都能映射成W的加法单位元，所以"
   ]
  },
  {
   "cell_type": "code",
   "execution_count": 13,
   "metadata": {},
   "outputs": [],
   "source": [
    ":(0∈rangeT);"
   ]
  },
  {
   "cell_type": "markdown",
   "metadata": {},
   "source": [
    "    得证；\n",
    "    (2) 下面证明加法封闭，即当"
   ]
  },
  {
   "cell_type": "code",
   "execution_count": 14,
   "metadata": {},
   "outputs": [],
   "source": [
    ":(u,v∈rangeT);"
   ]
  },
  {
   "cell_type": "markdown",
   "metadata": {},
   "source": [
    "时，有"
   ]
  },
  {
   "cell_type": "code",
   "execution_count": 15,
   "metadata": {},
   "outputs": [],
   "source": [
    ":(v+u∈rangeT);"
   ]
  },
  {
   "cell_type": "markdown",
   "metadata": {},
   "source": []
  }
 ],
 "metadata": {
  "kernelspec": {
   "display_name": "Julia 1.5.2",
   "language": "julia",
   "name": "julia-1.5"
  },
  "language_info": {
   "file_extension": ".jl",
   "mimetype": "application/julia",
   "name": "julia",
   "version": "1.5.2"
  }
 },
 "nbformat": 4,
 "nbformat_minor": 4
}
